{
 "cells": [
  {
   "cell_type": "markdown",
   "id": "87ec52fd-228d-4eee-af16-fe6415b93dd9",
   "metadata": {},
   "source": [
    "# 1 - Caricamento Dati Borsa"
   ]
  },
  {
   "cell_type": "markdown",
   "id": "d1ac70a1-0f92-425d-9b1b-f2f0852932fa",
   "metadata": {},
   "source": [
    "## Caricamento librerie/moduli"
   ]
  },
  {
   "cell_type": "code",
   "execution_count": 1,
   "id": "0bc1cc5a-d601-451e-a8fc-5abeed11ba76",
   "metadata": {},
   "outputs": [],
   "source": [
    "import matplotlib.pyplot as plt\n",
    "import pandas as pd\n",
    "import numpy as np\n",
    "import metcomputlib as mc"
   ]
  },
  {
   "cell_type": "code",
   "execution_count": 2,
   "id": "a1722f14-75b3-464b-938a-7be9cb96bb2d",
   "metadata": {},
   "outputs": [
    {
     "name": "stdout",
     "output_type": "stream",
     "text": [
      "------------------------------------------------------------------------------------------\n",
      "Saturday, March 15, 2025, 23:18:26\n",
      "Platform : macOS-15.3.2-arm64-arm-64bit\n",
      "------------------------------------------------------------------------------------------\n",
      "Python 3.12.7 | packaged by Anaconda, Inc. | (main, Oct  4 2024, 08:22:19) [Clang 14.0.6 ]\n",
      "JupyterLab 4.3.4\n",
      "------------------------------------------------------------------------------------------\n",
      "Matplotlib 3.9.2\n",
      "Pandas 2.2.2\n",
      "NumPy 1.26.4\n",
      "SciPy 1.13.1\n",
      "------------------------------------------------------------------------------------------\n"
     ]
    }
   ],
   "source": [
    "mc.Ver()"
   ]
  },
  {
   "cell_type": "markdown",
   "id": "de977f11-b451-4b70-bc21-21a67c478e6c",
   "metadata": {},
   "source": [
    "## Caricamento file csv come DataFrame"
   ]
  },
  {
   "cell_type": "code",
   "execution_count": 3,
   "id": "d8d82fef-61bb-49b8-b4fe-2721225ef785",
   "metadata": {},
   "outputs": [],
   "source": [
    "# load AAPL.csv in a DataFrame\n",
    "Aapl = pd.read_csv('AAPL.csv')"
   ]
  },
  {
   "cell_type": "code",
   "execution_count": 4,
   "id": "3cf3b80a-1dd0-4d4c-9225-5611851b0ab4",
   "metadata": {},
   "outputs": [
    {
     "data": {
      "text/html": [
       "<div>\n",
       "<style scoped>\n",
       "    .dataframe tbody tr th:only-of-type {\n",
       "        vertical-align: middle;\n",
       "    }\n",
       "\n",
       "    .dataframe tbody tr th {\n",
       "        vertical-align: top;\n",
       "    }\n",
       "\n",
       "    .dataframe thead th {\n",
       "        text-align: right;\n",
       "    }\n",
       "</style>\n",
       "<table border=\"1\" class=\"dataframe\">\n",
       "  <thead>\n",
       "    <tr style=\"text-align: right;\">\n",
       "      <th></th>\n",
       "      <th>Date</th>\n",
       "      <th>Open</th>\n",
       "      <th>High</th>\n",
       "      <th>Low</th>\n",
       "      <th>Close</th>\n",
       "      <th>Adj Close</th>\n",
       "      <th>Volume</th>\n",
       "    </tr>\n",
       "  </thead>\n",
       "  <tbody>\n",
       "    <tr>\n",
       "      <th>0</th>\n",
       "      <td>1980-12-12</td>\n",
       "      <td>0.128348</td>\n",
       "      <td>0.128906</td>\n",
       "      <td>0.128348</td>\n",
       "      <td>0.128348</td>\n",
       "      <td>0.100326</td>\n",
       "      <td>469033600</td>\n",
       "    </tr>\n",
       "    <tr>\n",
       "      <th>1</th>\n",
       "      <td>1980-12-15</td>\n",
       "      <td>0.122210</td>\n",
       "      <td>0.122210</td>\n",
       "      <td>0.121652</td>\n",
       "      <td>0.121652</td>\n",
       "      <td>0.095092</td>\n",
       "      <td>175884800</td>\n",
       "    </tr>\n",
       "    <tr>\n",
       "      <th>2</th>\n",
       "      <td>1980-12-16</td>\n",
       "      <td>0.113281</td>\n",
       "      <td>0.113281</td>\n",
       "      <td>0.112723</td>\n",
       "      <td>0.112723</td>\n",
       "      <td>0.088112</td>\n",
       "      <td>105728000</td>\n",
       "    </tr>\n",
       "    <tr>\n",
       "      <th>3</th>\n",
       "      <td>1980-12-17</td>\n",
       "      <td>0.115513</td>\n",
       "      <td>0.116071</td>\n",
       "      <td>0.115513</td>\n",
       "      <td>0.115513</td>\n",
       "      <td>0.090293</td>\n",
       "      <td>86441600</td>\n",
       "    </tr>\n",
       "    <tr>\n",
       "      <th>4</th>\n",
       "      <td>1980-12-18</td>\n",
       "      <td>0.118862</td>\n",
       "      <td>0.119420</td>\n",
       "      <td>0.118862</td>\n",
       "      <td>0.118862</td>\n",
       "      <td>0.092911</td>\n",
       "      <td>73449600</td>\n",
       "    </tr>\n",
       "    <tr>\n",
       "      <th>...</th>\n",
       "      <td>...</td>\n",
       "      <td>...</td>\n",
       "      <td>...</td>\n",
       "      <td>...</td>\n",
       "      <td>...</td>\n",
       "      <td>...</td>\n",
       "      <td>...</td>\n",
       "    </tr>\n",
       "    <tr>\n",
       "      <th>10421</th>\n",
       "      <td>2022-04-12</td>\n",
       "      <td>168.020004</td>\n",
       "      <td>169.869995</td>\n",
       "      <td>166.639999</td>\n",
       "      <td>167.660004</td>\n",
       "      <td>167.660004</td>\n",
       "      <td>79265200</td>\n",
       "    </tr>\n",
       "    <tr>\n",
       "      <th>10422</th>\n",
       "      <td>2022-04-13</td>\n",
       "      <td>167.389999</td>\n",
       "      <td>171.039993</td>\n",
       "      <td>166.770004</td>\n",
       "      <td>170.399994</td>\n",
       "      <td>170.399994</td>\n",
       "      <td>70618900</td>\n",
       "    </tr>\n",
       "    <tr>\n",
       "      <th>10423</th>\n",
       "      <td>2022-04-14</td>\n",
       "      <td>170.619995</td>\n",
       "      <td>171.270004</td>\n",
       "      <td>165.039993</td>\n",
       "      <td>165.289993</td>\n",
       "      <td>165.289993</td>\n",
       "      <td>75237500</td>\n",
       "    </tr>\n",
       "    <tr>\n",
       "      <th>10424</th>\n",
       "      <td>2022-04-18</td>\n",
       "      <td>163.919998</td>\n",
       "      <td>166.600006</td>\n",
       "      <td>163.570007</td>\n",
       "      <td>165.070007</td>\n",
       "      <td>165.070007</td>\n",
       "      <td>69023900</td>\n",
       "    </tr>\n",
       "    <tr>\n",
       "      <th>10425</th>\n",
       "      <td>2022-04-19</td>\n",
       "      <td>165.020004</td>\n",
       "      <td>167.820007</td>\n",
       "      <td>163.910004</td>\n",
       "      <td>167.399994</td>\n",
       "      <td>167.399994</td>\n",
       "      <td>67627500</td>\n",
       "    </tr>\n",
       "  </tbody>\n",
       "</table>\n",
       "<p>10426 rows × 7 columns</p>\n",
       "</div>"
      ],
      "text/plain": [
       "             Date        Open        High         Low       Close   Adj Close  \\\n",
       "0      1980-12-12    0.128348    0.128906    0.128348    0.128348    0.100326   \n",
       "1      1980-12-15    0.122210    0.122210    0.121652    0.121652    0.095092   \n",
       "2      1980-12-16    0.113281    0.113281    0.112723    0.112723    0.088112   \n",
       "3      1980-12-17    0.115513    0.116071    0.115513    0.115513    0.090293   \n",
       "4      1980-12-18    0.118862    0.119420    0.118862    0.118862    0.092911   \n",
       "...           ...         ...         ...         ...         ...         ...   \n",
       "10421  2022-04-12  168.020004  169.869995  166.639999  167.660004  167.660004   \n",
       "10422  2022-04-13  167.389999  171.039993  166.770004  170.399994  170.399994   \n",
       "10423  2022-04-14  170.619995  171.270004  165.039993  165.289993  165.289993   \n",
       "10424  2022-04-18  163.919998  166.600006  163.570007  165.070007  165.070007   \n",
       "10425  2022-04-19  165.020004  167.820007  163.910004  167.399994  167.399994   \n",
       "\n",
       "          Volume  \n",
       "0      469033600  \n",
       "1      175884800  \n",
       "2      105728000  \n",
       "3       86441600  \n",
       "4       73449600  \n",
       "...          ...  \n",
       "10421   79265200  \n",
       "10422   70618900  \n",
       "10423   75237500  \n",
       "10424   69023900  \n",
       "10425   67627500  \n",
       "\n",
       "[10426 rows x 7 columns]"
      ]
     },
     "execution_count": 4,
     "metadata": {},
     "output_type": "execute_result"
    }
   ],
   "source": [
    "Aapl"
   ]
  },
  {
   "cell_type": "code",
   "execution_count": 5,
   "id": "ef294b47-def4-4e4d-acbf-99d8f1462550",
   "metadata": {},
   "outputs": [
    {
     "data": {
      "text/plain": [
       "pandas.core.frame.DataFrame"
      ]
     },
     "execution_count": 5,
     "metadata": {},
     "output_type": "execute_result"
    }
   ],
   "source": [
    "type(Aapl)"
   ]
  },
  {
   "cell_type": "markdown",
   "id": "20fd380f-67e8-4fa6-a8d5-ba4c896b5af7",
   "metadata": {},
   "source": [
    "# Sottoinsiemi di un DataFrame: DataFrame e TimeSeries"
   ]
  },
  {
   "cell_type": "code",
   "execution_count": 6,
   "id": "4cdb1b29-c68c-457d-981e-95f64abd1fb4",
   "metadata": {},
   "outputs": [
    {
     "data": {
      "text/plain": [
       "0        1980-12-12\n",
       "1        1980-12-15\n",
       "2        1980-12-16\n",
       "3        1980-12-17\n",
       "4        1980-12-18\n",
       "            ...    \n",
       "10421    2022-04-12\n",
       "10422    2022-04-13\n",
       "10423    2022-04-14\n",
       "10424    2022-04-18\n",
       "10425    2022-04-19\n",
       "Name: Date, Length: 10426, dtype: object"
      ]
     },
     "execution_count": 6,
     "metadata": {},
     "output_type": "execute_result"
    }
   ],
   "source": [
    "Aapl.Date"
   ]
  },
  {
   "cell_type": "code",
   "execution_count": 7,
   "id": "68dfe821-b908-4a17-8a7f-109ca81b3415",
   "metadata": {},
   "outputs": [
    {
     "data": {
      "text/plain": [
       "pandas.core.series.Series"
      ]
     },
     "execution_count": 7,
     "metadata": {},
     "output_type": "execute_result"
    }
   ],
   "source": [
    "type(Aapl.Date)"
   ]
  },
  {
   "cell_type": "code",
   "execution_count": 8,
   "id": "70e2655b-d41d-4571-8e83-52d19170d966",
   "metadata": {},
   "outputs": [
    {
     "data": {
      "text/plain": [
       "0        1980-12-12\n",
       "1        1980-12-15\n",
       "2        1980-12-16\n",
       "3        1980-12-17\n",
       "4        1980-12-18\n",
       "            ...    \n",
       "10421    2022-04-12\n",
       "10422    2022-04-13\n",
       "10423    2022-04-14\n",
       "10424    2022-04-18\n",
       "10425    2022-04-19\n",
       "Name: Date, Length: 10426, dtype: object"
      ]
     },
     "execution_count": 8,
     "metadata": {},
     "output_type": "execute_result"
    }
   ],
   "source": [
    "Aapl['Date']"
   ]
  },
  {
   "cell_type": "code",
   "execution_count": 9,
   "id": "e6d72ce8-c12a-4753-803e-a1121e58a7b8",
   "metadata": {},
   "outputs": [
    {
     "data": {
      "text/plain": [
       "pandas.core.series.Series"
      ]
     },
     "execution_count": 9,
     "metadata": {},
     "output_type": "execute_result"
    }
   ],
   "source": [
    "type(Aapl['Date'])"
   ]
  },
  {
   "cell_type": "code",
   "execution_count": 10,
   "id": "0b574cfb-1784-47d7-9d89-546f91cd36de",
   "metadata": {},
   "outputs": [
    {
     "data": {
      "text/html": [
       "<div>\n",
       "<style scoped>\n",
       "    .dataframe tbody tr th:only-of-type {\n",
       "        vertical-align: middle;\n",
       "    }\n",
       "\n",
       "    .dataframe tbody tr th {\n",
       "        vertical-align: top;\n",
       "    }\n",
       "\n",
       "    .dataframe thead th {\n",
       "        text-align: right;\n",
       "    }\n",
       "</style>\n",
       "<table border=\"1\" class=\"dataframe\">\n",
       "  <thead>\n",
       "    <tr style=\"text-align: right;\">\n",
       "      <th></th>\n",
       "      <th>Date</th>\n",
       "    </tr>\n",
       "  </thead>\n",
       "  <tbody>\n",
       "    <tr>\n",
       "      <th>0</th>\n",
       "      <td>1980-12-12</td>\n",
       "    </tr>\n",
       "    <tr>\n",
       "      <th>1</th>\n",
       "      <td>1980-12-15</td>\n",
       "    </tr>\n",
       "    <tr>\n",
       "      <th>2</th>\n",
       "      <td>1980-12-16</td>\n",
       "    </tr>\n",
       "    <tr>\n",
       "      <th>3</th>\n",
       "      <td>1980-12-17</td>\n",
       "    </tr>\n",
       "    <tr>\n",
       "      <th>4</th>\n",
       "      <td>1980-12-18</td>\n",
       "    </tr>\n",
       "    <tr>\n",
       "      <th>...</th>\n",
       "      <td>...</td>\n",
       "    </tr>\n",
       "    <tr>\n",
       "      <th>10421</th>\n",
       "      <td>2022-04-12</td>\n",
       "    </tr>\n",
       "    <tr>\n",
       "      <th>10422</th>\n",
       "      <td>2022-04-13</td>\n",
       "    </tr>\n",
       "    <tr>\n",
       "      <th>10423</th>\n",
       "      <td>2022-04-14</td>\n",
       "    </tr>\n",
       "    <tr>\n",
       "      <th>10424</th>\n",
       "      <td>2022-04-18</td>\n",
       "    </tr>\n",
       "    <tr>\n",
       "      <th>10425</th>\n",
       "      <td>2022-04-19</td>\n",
       "    </tr>\n",
       "  </tbody>\n",
       "</table>\n",
       "<p>10426 rows × 1 columns</p>\n",
       "</div>"
      ],
      "text/plain": [
       "             Date\n",
       "0      1980-12-12\n",
       "1      1980-12-15\n",
       "2      1980-12-16\n",
       "3      1980-12-17\n",
       "4      1980-12-18\n",
       "...           ...\n",
       "10421  2022-04-12\n",
       "10422  2022-04-13\n",
       "10423  2022-04-14\n",
       "10424  2022-04-18\n",
       "10425  2022-04-19\n",
       "\n",
       "[10426 rows x 1 columns]"
      ]
     },
     "execution_count": 10,
     "metadata": {},
     "output_type": "execute_result"
    }
   ],
   "source": [
    "Aapl[['Date']]"
   ]
  },
  {
   "cell_type": "code",
   "execution_count": 11,
   "id": "43a68a41-14ea-4b67-b6d2-d0d4c1b79ef7",
   "metadata": {},
   "outputs": [
    {
     "data": {
      "text/plain": [
       "pandas.core.frame.DataFrame"
      ]
     },
     "execution_count": 11,
     "metadata": {},
     "output_type": "execute_result"
    }
   ],
   "source": [
    "type(Aapl[['Date']])"
   ]
  },
  {
   "cell_type": "markdown",
   "id": "58400ade-2c6a-42c1-a1d4-98ce8048b587",
   "metadata": {},
   "source": [
    "## Come estrarre i dati di un DataFrame"
   ]
  },
  {
   "cell_type": "code",
   "execution_count": 12,
   "id": "619f6d0b-10f4-4119-aec5-f92102ffbfcc",
   "metadata": {},
   "outputs": [
    {
     "data": {
      "text/plain": [
       "array(['1980-12-12', '1980-12-15', '1980-12-16', ..., '2022-04-14',\n",
       "       '2022-04-18', '2022-04-19'], dtype=object)"
      ]
     },
     "execution_count": 12,
     "metadata": {},
     "output_type": "execute_result"
    }
   ],
   "source": [
    "Aapl['Date'].values"
   ]
  },
  {
   "cell_type": "code",
   "execution_count": 13,
   "id": "cb53f9fd-d505-425a-be5b-07c762748922",
   "metadata": {},
   "outputs": [
    {
     "data": {
      "text/plain": [
       "numpy.ndarray"
      ]
     },
     "execution_count": 13,
     "metadata": {},
     "output_type": "execute_result"
    }
   ],
   "source": [
    "type(Aapl['Date'].values)"
   ]
  },
  {
   "cell_type": "code",
   "execution_count": 14,
   "id": "0d1e9a8f-0009-4f47-b21a-c18b89a4a442",
   "metadata": {},
   "outputs": [],
   "source": [
    "D=Aapl['Date'].values"
   ]
  },
  {
   "cell_type": "code",
   "execution_count": 15,
   "id": "d1892300-c6b6-4845-924f-f20350199f8f",
   "metadata": {},
   "outputs": [
    {
     "data": {
      "text/plain": [
       "'1980-12-12'"
      ]
     },
     "execution_count": 15,
     "metadata": {},
     "output_type": "execute_result"
    }
   ],
   "source": [
    "D[0]"
   ]
  },
  {
   "cell_type": "code",
   "execution_count": 16,
   "id": "e33ae117-6b9f-486c-b05e-e4d38bfe0843",
   "metadata": {},
   "outputs": [
    {
     "data": {
      "text/plain": [
       "str"
      ]
     },
     "execution_count": 16,
     "metadata": {},
     "output_type": "execute_result"
    }
   ],
   "source": [
    "type(D[0])"
   ]
  },
  {
   "cell_type": "markdown",
   "id": "c584411d-e897-42e3-89ad-3405e9881d93",
   "metadata": {},
   "source": [
    "## Convertire le date da stringhe a datetime"
   ]
  },
  {
   "cell_type": "code",
   "execution_count": 17,
   "id": "9701fb95-ea61-49d9-9606-8af2a62fc6f0",
   "metadata": {},
   "outputs": [],
   "source": [
    "# convert the 'Date' column with custom format - if 'coerce' then invalid parsing will be set as NaT\n",
    "Aapl['Date'] = pd.to_datetime(Aapl['Date'], format='%Y-%m-%d', errors='coerce')"
   ]
  },
  {
   "cell_type": "code",
   "execution_count": 18,
   "id": "f254fe61-ad63-43a9-80bb-ad2b7634b258",
   "metadata": {},
   "outputs": [],
   "source": [
    "D=Aapl['Date'].values"
   ]
  },
  {
   "cell_type": "code",
   "execution_count": 19,
   "id": "91788414-3d37-4956-8a67-1a63f1a3a439",
   "metadata": {},
   "outputs": [
    {
     "data": {
      "text/plain": [
       "numpy.ndarray"
      ]
     },
     "execution_count": 19,
     "metadata": {},
     "output_type": "execute_result"
    }
   ],
   "source": [
    "type(D)"
   ]
  },
  {
   "cell_type": "code",
   "execution_count": 20,
   "id": "daed665e-eb54-4195-9d39-90f11e964cc9",
   "metadata": {},
   "outputs": [
    {
     "data": {
      "text/plain": [
       "numpy.datetime64('1980-12-12T00:00:00.000000000')"
      ]
     },
     "execution_count": 20,
     "metadata": {},
     "output_type": "execute_result"
    }
   ],
   "source": [
    "D[0]"
   ]
  },
  {
   "cell_type": "code",
   "execution_count": 21,
   "id": "75545571-36e2-4c8d-a34a-d469f7f39260",
   "metadata": {},
   "outputs": [
    {
     "data": {
      "text/plain": [
       "numpy.datetime64"
      ]
     },
     "execution_count": 21,
     "metadata": {},
     "output_type": "execute_result"
    }
   ],
   "source": [
    "type(D[0])"
   ]
  },
  {
   "cell_type": "code",
   "execution_count": 22,
   "id": "95bd534d-def6-4af3-b065-38f36adcdaca",
   "metadata": {},
   "outputs": [
    {
     "name": "stdout",
     "output_type": "stream",
     "text": [
      "1980-12-12T00:00:00.000000000\n"
     ]
    }
   ],
   "source": [
    "print(D[0])"
   ]
  },
  {
   "cell_type": "markdown",
   "id": "bd3e2b62-7055-46c3-a3d5-8801105d8f7b",
   "metadata": {},
   "source": [
    "## Approfondimenti su estrazione di parte di un DataFrame"
   ]
  },
  {
   "cell_type": "code",
   "execution_count": 23,
   "id": "ae5ccd84-f923-4b21-bec0-bf5007f83214",
   "metadata": {},
   "outputs": [
    {
     "data": {
      "text/html": [
       "<div>\n",
       "<style scoped>\n",
       "    .dataframe tbody tr th:only-of-type {\n",
       "        vertical-align: middle;\n",
       "    }\n",
       "\n",
       "    .dataframe tbody tr th {\n",
       "        vertical-align: top;\n",
       "    }\n",
       "\n",
       "    .dataframe thead th {\n",
       "        text-align: right;\n",
       "    }\n",
       "</style>\n",
       "<table border=\"1\" class=\"dataframe\">\n",
       "  <thead>\n",
       "    <tr style=\"text-align: right;\">\n",
       "      <th></th>\n",
       "      <th>Date</th>\n",
       "      <th>Open</th>\n",
       "      <th>High</th>\n",
       "      <th>Low</th>\n",
       "      <th>Close</th>\n",
       "      <th>Adj Close</th>\n",
       "      <th>Volume</th>\n",
       "    </tr>\n",
       "  </thead>\n",
       "  <tbody>\n",
       "    <tr>\n",
       "      <th>0</th>\n",
       "      <td>1980-12-12</td>\n",
       "      <td>0.128348</td>\n",
       "      <td>0.128906</td>\n",
       "      <td>0.128348</td>\n",
       "      <td>0.128348</td>\n",
       "      <td>0.100326</td>\n",
       "      <td>469033600</td>\n",
       "    </tr>\n",
       "    <tr>\n",
       "      <th>1</th>\n",
       "      <td>1980-12-15</td>\n",
       "      <td>0.122210</td>\n",
       "      <td>0.122210</td>\n",
       "      <td>0.121652</td>\n",
       "      <td>0.121652</td>\n",
       "      <td>0.095092</td>\n",
       "      <td>175884800</td>\n",
       "    </tr>\n",
       "    <tr>\n",
       "      <th>2</th>\n",
       "      <td>1980-12-16</td>\n",
       "      <td>0.113281</td>\n",
       "      <td>0.113281</td>\n",
       "      <td>0.112723</td>\n",
       "      <td>0.112723</td>\n",
       "      <td>0.088112</td>\n",
       "      <td>105728000</td>\n",
       "    </tr>\n",
       "    <tr>\n",
       "      <th>3</th>\n",
       "      <td>1980-12-17</td>\n",
       "      <td>0.115513</td>\n",
       "      <td>0.116071</td>\n",
       "      <td>0.115513</td>\n",
       "      <td>0.115513</td>\n",
       "      <td>0.090293</td>\n",
       "      <td>86441600</td>\n",
       "    </tr>\n",
       "    <tr>\n",
       "      <th>4</th>\n",
       "      <td>1980-12-18</td>\n",
       "      <td>0.118862</td>\n",
       "      <td>0.119420</td>\n",
       "      <td>0.118862</td>\n",
       "      <td>0.118862</td>\n",
       "      <td>0.092911</td>\n",
       "      <td>73449600</td>\n",
       "    </tr>\n",
       "    <tr>\n",
       "      <th>...</th>\n",
       "      <td>...</td>\n",
       "      <td>...</td>\n",
       "      <td>...</td>\n",
       "      <td>...</td>\n",
       "      <td>...</td>\n",
       "      <td>...</td>\n",
       "      <td>...</td>\n",
       "    </tr>\n",
       "    <tr>\n",
       "      <th>10421</th>\n",
       "      <td>2022-04-12</td>\n",
       "      <td>168.020004</td>\n",
       "      <td>169.869995</td>\n",
       "      <td>166.639999</td>\n",
       "      <td>167.660004</td>\n",
       "      <td>167.660004</td>\n",
       "      <td>79265200</td>\n",
       "    </tr>\n",
       "    <tr>\n",
       "      <th>10422</th>\n",
       "      <td>2022-04-13</td>\n",
       "      <td>167.389999</td>\n",
       "      <td>171.039993</td>\n",
       "      <td>166.770004</td>\n",
       "      <td>170.399994</td>\n",
       "      <td>170.399994</td>\n",
       "      <td>70618900</td>\n",
       "    </tr>\n",
       "    <tr>\n",
       "      <th>10423</th>\n",
       "      <td>2022-04-14</td>\n",
       "      <td>170.619995</td>\n",
       "      <td>171.270004</td>\n",
       "      <td>165.039993</td>\n",
       "      <td>165.289993</td>\n",
       "      <td>165.289993</td>\n",
       "      <td>75237500</td>\n",
       "    </tr>\n",
       "    <tr>\n",
       "      <th>10424</th>\n",
       "      <td>2022-04-18</td>\n",
       "      <td>163.919998</td>\n",
       "      <td>166.600006</td>\n",
       "      <td>163.570007</td>\n",
       "      <td>165.070007</td>\n",
       "      <td>165.070007</td>\n",
       "      <td>69023900</td>\n",
       "    </tr>\n",
       "    <tr>\n",
       "      <th>10425</th>\n",
       "      <td>2022-04-19</td>\n",
       "      <td>165.020004</td>\n",
       "      <td>167.820007</td>\n",
       "      <td>163.910004</td>\n",
       "      <td>167.399994</td>\n",
       "      <td>167.399994</td>\n",
       "      <td>67627500</td>\n",
       "    </tr>\n",
       "  </tbody>\n",
       "</table>\n",
       "<p>10426 rows × 7 columns</p>\n",
       "</div>"
      ],
      "text/plain": [
       "            Date        Open        High         Low       Close   Adj Close  \\\n",
       "0     1980-12-12    0.128348    0.128906    0.128348    0.128348    0.100326   \n",
       "1     1980-12-15    0.122210    0.122210    0.121652    0.121652    0.095092   \n",
       "2     1980-12-16    0.113281    0.113281    0.112723    0.112723    0.088112   \n",
       "3     1980-12-17    0.115513    0.116071    0.115513    0.115513    0.090293   \n",
       "4     1980-12-18    0.118862    0.119420    0.118862    0.118862    0.092911   \n",
       "...          ...         ...         ...         ...         ...         ...   \n",
       "10421 2022-04-12  168.020004  169.869995  166.639999  167.660004  167.660004   \n",
       "10422 2022-04-13  167.389999  171.039993  166.770004  170.399994  170.399994   \n",
       "10423 2022-04-14  170.619995  171.270004  165.039993  165.289993  165.289993   \n",
       "10424 2022-04-18  163.919998  166.600006  163.570007  165.070007  165.070007   \n",
       "10425 2022-04-19  165.020004  167.820007  163.910004  167.399994  167.399994   \n",
       "\n",
       "          Volume  \n",
       "0      469033600  \n",
       "1      175884800  \n",
       "2      105728000  \n",
       "3       86441600  \n",
       "4       73449600  \n",
       "...          ...  \n",
       "10421   79265200  \n",
       "10422   70618900  \n",
       "10423   75237500  \n",
       "10424   69023900  \n",
       "10425   67627500  \n",
       "\n",
       "[10426 rows x 7 columns]"
      ]
     },
     "execution_count": 23,
     "metadata": {},
     "output_type": "execute_result"
    }
   ],
   "source": [
    "Aapl"
   ]
  },
  {
   "cell_type": "code",
   "execution_count": 24,
   "id": "8e7288a1-43a8-445a-9a12-7dc6e46422f8",
   "metadata": {},
   "outputs": [
    {
     "data": {
      "text/plain": [
       "(10426, 7)"
      ]
     },
     "execution_count": 24,
     "metadata": {},
     "output_type": "execute_result"
    }
   ],
   "source": [
    "Aapl.shape # number of rows and column"
   ]
  },
  {
   "cell_type": "code",
   "execution_count": 25,
   "id": "db75485c-a7dd-4a05-a516-2c4f39f927f5",
   "metadata": {},
   "outputs": [
    {
     "data": {
      "text/html": [
       "<div>\n",
       "<style scoped>\n",
       "    .dataframe tbody tr th:only-of-type {\n",
       "        vertical-align: middle;\n",
       "    }\n",
       "\n",
       "    .dataframe tbody tr th {\n",
       "        vertical-align: top;\n",
       "    }\n",
       "\n",
       "    .dataframe thead th {\n",
       "        text-align: right;\n",
       "    }\n",
       "</style>\n",
       "<table border=\"1\" class=\"dataframe\">\n",
       "  <thead>\n",
       "    <tr style=\"text-align: right;\">\n",
       "      <th></th>\n",
       "      <th>Date</th>\n",
       "      <th>Close</th>\n",
       "    </tr>\n",
       "  </thead>\n",
       "  <tbody>\n",
       "    <tr>\n",
       "      <th>0</th>\n",
       "      <td>1980-12-12</td>\n",
       "      <td>0.128348</td>\n",
       "    </tr>\n",
       "    <tr>\n",
       "      <th>1</th>\n",
       "      <td>1980-12-15</td>\n",
       "      <td>0.121652</td>\n",
       "    </tr>\n",
       "    <tr>\n",
       "      <th>2</th>\n",
       "      <td>1980-12-16</td>\n",
       "      <td>0.112723</td>\n",
       "    </tr>\n",
       "    <tr>\n",
       "      <th>3</th>\n",
       "      <td>1980-12-17</td>\n",
       "      <td>0.115513</td>\n",
       "    </tr>\n",
       "    <tr>\n",
       "      <th>4</th>\n",
       "      <td>1980-12-18</td>\n",
       "      <td>0.118862</td>\n",
       "    </tr>\n",
       "    <tr>\n",
       "      <th>...</th>\n",
       "      <td>...</td>\n",
       "      <td>...</td>\n",
       "    </tr>\n",
       "    <tr>\n",
       "      <th>10421</th>\n",
       "      <td>2022-04-12</td>\n",
       "      <td>167.660004</td>\n",
       "    </tr>\n",
       "    <tr>\n",
       "      <th>10422</th>\n",
       "      <td>2022-04-13</td>\n",
       "      <td>170.399994</td>\n",
       "    </tr>\n",
       "    <tr>\n",
       "      <th>10423</th>\n",
       "      <td>2022-04-14</td>\n",
       "      <td>165.289993</td>\n",
       "    </tr>\n",
       "    <tr>\n",
       "      <th>10424</th>\n",
       "      <td>2022-04-18</td>\n",
       "      <td>165.070007</td>\n",
       "    </tr>\n",
       "    <tr>\n",
       "      <th>10425</th>\n",
       "      <td>2022-04-19</td>\n",
       "      <td>167.399994</td>\n",
       "    </tr>\n",
       "  </tbody>\n",
       "</table>\n",
       "<p>10426 rows × 2 columns</p>\n",
       "</div>"
      ],
      "text/plain": [
       "            Date       Close\n",
       "0     1980-12-12    0.128348\n",
       "1     1980-12-15    0.121652\n",
       "2     1980-12-16    0.112723\n",
       "3     1980-12-17    0.115513\n",
       "4     1980-12-18    0.118862\n",
       "...          ...         ...\n",
       "10421 2022-04-12  167.660004\n",
       "10422 2022-04-13  170.399994\n",
       "10423 2022-04-14  165.289993\n",
       "10424 2022-04-18  165.070007\n",
       "10425 2022-04-19  167.399994\n",
       "\n",
       "[10426 rows x 2 columns]"
      ]
     },
     "execution_count": 25,
     "metadata": {},
     "output_type": "execute_result"
    }
   ],
   "source": [
    "Aapl[['Date','Close']] # subtable with 2 columns"
   ]
  },
  {
   "cell_type": "code",
   "execution_count": 26,
   "id": "393da103-d573-4181-b28f-e45483e0c257",
   "metadata": {},
   "outputs": [
    {
     "data": {
      "text/html": [
       "<div>\n",
       "<style scoped>\n",
       "    .dataframe tbody tr th:only-of-type {\n",
       "        vertical-align: middle;\n",
       "    }\n",
       "\n",
       "    .dataframe tbody tr th {\n",
       "        vertical-align: top;\n",
       "    }\n",
       "\n",
       "    .dataframe thead th {\n",
       "        text-align: right;\n",
       "    }\n",
       "</style>\n",
       "<table border=\"1\" class=\"dataframe\">\n",
       "  <thead>\n",
       "    <tr style=\"text-align: right;\">\n",
       "      <th></th>\n",
       "      <th>High</th>\n",
       "      <th>Low</th>\n",
       "      <th>Close</th>\n",
       "    </tr>\n",
       "  </thead>\n",
       "  <tbody>\n",
       "    <tr>\n",
       "      <th>9</th>\n",
       "      <td>0.159040</td>\n",
       "      <td>0.158482</td>\n",
       "      <td>0.158482</td>\n",
       "    </tr>\n",
       "    <tr>\n",
       "      <th>10</th>\n",
       "      <td>0.161272</td>\n",
       "      <td>0.160714</td>\n",
       "      <td>0.160714</td>\n",
       "    </tr>\n",
       "    <tr>\n",
       "      <th>11</th>\n",
       "      <td>0.157366</td>\n",
       "      <td>0.156808</td>\n",
       "      <td>0.156808</td>\n",
       "    </tr>\n",
       "    <tr>\n",
       "      <th>12</th>\n",
       "      <td>0.152902</td>\n",
       "      <td>0.152344</td>\n",
       "      <td>0.152344</td>\n",
       "    </tr>\n",
       "    <tr>\n",
       "      <th>13</th>\n",
       "      <td>0.155134</td>\n",
       "      <td>0.154018</td>\n",
       "      <td>0.154018</td>\n",
       "    </tr>\n",
       "    <tr>\n",
       "      <th>14</th>\n",
       "      <td>0.151228</td>\n",
       "      <td>0.150670</td>\n",
       "      <td>0.150670</td>\n",
       "    </tr>\n",
       "    <tr>\n",
       "      <th>15</th>\n",
       "      <td>0.144531</td>\n",
       "      <td>0.143973</td>\n",
       "      <td>0.143973</td>\n",
       "    </tr>\n",
       "    <tr>\n",
       "      <th>16</th>\n",
       "      <td>0.138393</td>\n",
       "      <td>0.137835</td>\n",
       "      <td>0.137835</td>\n",
       "    </tr>\n",
       "    <tr>\n",
       "      <th>17</th>\n",
       "      <td>0.135603</td>\n",
       "      <td>0.135045</td>\n",
       "      <td>0.135045</td>\n",
       "    </tr>\n",
       "    <tr>\n",
       "      <th>18</th>\n",
       "      <td>0.142857</td>\n",
       "      <td>0.142299</td>\n",
       "      <td>0.142299</td>\n",
       "    </tr>\n",
       "    <tr>\n",
       "      <th>19</th>\n",
       "      <td>0.142299</td>\n",
       "      <td>0.141183</td>\n",
       "      <td>0.141183</td>\n",
       "    </tr>\n",
       "    <tr>\n",
       "      <th>20</th>\n",
       "      <td>0.136719</td>\n",
       "      <td>0.136161</td>\n",
       "      <td>0.136161</td>\n",
       "    </tr>\n",
       "    <tr>\n",
       "      <th>21</th>\n",
       "      <td>0.137277</td>\n",
       "      <td>0.136719</td>\n",
       "      <td>0.136719</td>\n",
       "    </tr>\n",
       "    <tr>\n",
       "      <th>22</th>\n",
       "      <td>0.140625</td>\n",
       "      <td>0.139509</td>\n",
       "      <td>0.139509</td>\n",
       "    </tr>\n",
       "    <tr>\n",
       "      <th>23</th>\n",
       "      <td>0.138951</td>\n",
       "      <td>0.138393</td>\n",
       "      <td>0.138393</td>\n",
       "    </tr>\n",
       "    <tr>\n",
       "      <th>24</th>\n",
       "      <td>0.147321</td>\n",
       "      <td>0.146763</td>\n",
       "      <td>0.146763</td>\n",
       "    </tr>\n",
       "  </tbody>\n",
       "</table>\n",
       "</div>"
      ],
      "text/plain": [
       "        High       Low     Close\n",
       "9   0.159040  0.158482  0.158482\n",
       "10  0.161272  0.160714  0.160714\n",
       "11  0.157366  0.156808  0.156808\n",
       "12  0.152902  0.152344  0.152344\n",
       "13  0.155134  0.154018  0.154018\n",
       "14  0.151228  0.150670  0.150670\n",
       "15  0.144531  0.143973  0.143973\n",
       "16  0.138393  0.137835  0.137835\n",
       "17  0.135603  0.135045  0.135045\n",
       "18  0.142857  0.142299  0.142299\n",
       "19  0.142299  0.141183  0.141183\n",
       "20  0.136719  0.136161  0.136161\n",
       "21  0.137277  0.136719  0.136719\n",
       "22  0.140625  0.139509  0.139509\n",
       "23  0.138951  0.138393  0.138393\n",
       "24  0.147321  0.146763  0.146763"
      ]
     },
     "execution_count": 26,
     "metadata": {},
     "output_type": "execute_result"
    }
   ],
   "source": [
    "Aapl.iloc[9:25, 2:5] # Select specific rows and/or columns using iloc when using the positions in the table"
   ]
  },
  {
   "cell_type": "code",
   "execution_count": 27,
   "id": "38c9b858-e876-4a2a-94cf-a10390d3af09",
   "metadata": {},
   "outputs": [
    {
     "data": {
      "text/html": [
       "<div>\n",
       "<style scoped>\n",
       "    .dataframe tbody tr th:only-of-type {\n",
       "        vertical-align: middle;\n",
       "    }\n",
       "\n",
       "    .dataframe tbody tr th {\n",
       "        vertical-align: top;\n",
       "    }\n",
       "\n",
       "    .dataframe thead th {\n",
       "        text-align: right;\n",
       "    }\n",
       "</style>\n",
       "<table border=\"1\" class=\"dataframe\">\n",
       "  <thead>\n",
       "    <tr style=\"text-align: right;\">\n",
       "      <th></th>\n",
       "      <th>Open</th>\n",
       "      <th>Close</th>\n",
       "    </tr>\n",
       "  </thead>\n",
       "  <tbody>\n",
       "    <tr>\n",
       "      <th>9</th>\n",
       "      <td>0.158482</td>\n",
       "      <td>0.158482</td>\n",
       "    </tr>\n",
       "    <tr>\n",
       "      <th>10</th>\n",
       "      <td>0.160714</td>\n",
       "      <td>0.160714</td>\n",
       "    </tr>\n",
       "    <tr>\n",
       "      <th>11</th>\n",
       "      <td>0.157366</td>\n",
       "      <td>0.156808</td>\n",
       "    </tr>\n",
       "    <tr>\n",
       "      <th>12</th>\n",
       "      <td>0.152902</td>\n",
       "      <td>0.152344</td>\n",
       "    </tr>\n",
       "    <tr>\n",
       "      <th>13</th>\n",
       "      <td>0.154018</td>\n",
       "      <td>0.154018</td>\n",
       "    </tr>\n",
       "    <tr>\n",
       "      <th>14</th>\n",
       "      <td>0.151228</td>\n",
       "      <td>0.150670</td>\n",
       "    </tr>\n",
       "    <tr>\n",
       "      <th>15</th>\n",
       "      <td>0.144531</td>\n",
       "      <td>0.143973</td>\n",
       "    </tr>\n",
       "    <tr>\n",
       "      <th>16</th>\n",
       "      <td>0.138393</td>\n",
       "      <td>0.137835</td>\n",
       "    </tr>\n",
       "    <tr>\n",
       "      <th>17</th>\n",
       "      <td>0.135603</td>\n",
       "      <td>0.135045</td>\n",
       "    </tr>\n",
       "    <tr>\n",
       "      <th>18</th>\n",
       "      <td>0.142299</td>\n",
       "      <td>0.142299</td>\n",
       "    </tr>\n",
       "    <tr>\n",
       "      <th>19</th>\n",
       "      <td>0.142299</td>\n",
       "      <td>0.141183</td>\n",
       "    </tr>\n",
       "    <tr>\n",
       "      <th>20</th>\n",
       "      <td>0.136719</td>\n",
       "      <td>0.136161</td>\n",
       "    </tr>\n",
       "    <tr>\n",
       "      <th>21</th>\n",
       "      <td>0.136719</td>\n",
       "      <td>0.136719</td>\n",
       "    </tr>\n",
       "    <tr>\n",
       "      <th>22</th>\n",
       "      <td>0.139509</td>\n",
       "      <td>0.139509</td>\n",
       "    </tr>\n",
       "    <tr>\n",
       "      <th>23</th>\n",
       "      <td>0.138951</td>\n",
       "      <td>0.138393</td>\n",
       "    </tr>\n",
       "    <tr>\n",
       "      <th>24</th>\n",
       "      <td>0.146763</td>\n",
       "      <td>0.146763</td>\n",
       "    </tr>\n",
       "    <tr>\n",
       "      <th>25</th>\n",
       "      <td>0.142857</td>\n",
       "      <td>0.142299</td>\n",
       "    </tr>\n",
       "  </tbody>\n",
       "</table>\n",
       "</div>"
      ],
      "text/plain": [
       "        Open     Close\n",
       "9   0.158482  0.158482\n",
       "10  0.160714  0.160714\n",
       "11  0.157366  0.156808\n",
       "12  0.152902  0.152344\n",
       "13  0.154018  0.154018\n",
       "14  0.151228  0.150670\n",
       "15  0.144531  0.143973\n",
       "16  0.138393  0.137835\n",
       "17  0.135603  0.135045\n",
       "18  0.142299  0.142299\n",
       "19  0.142299  0.141183\n",
       "20  0.136719  0.136161\n",
       "21  0.136719  0.136719\n",
       "22  0.139509  0.139509\n",
       "23  0.138951  0.138393\n",
       "24  0.146763  0.146763\n",
       "25  0.142857  0.142299"
      ]
     },
     "execution_count": 27,
     "metadata": {},
     "output_type": "execute_result"
    }
   ],
   "source": [
    "Aapl.loc[9:25, ['Open','Close']] # Select specific rows and/or columns using loc when using the row and column names"
   ]
  },
  {
   "cell_type": "code",
   "execution_count": 28,
   "id": "13634834-4796-46b4-9fef-157aaaf4879a",
   "metadata": {},
   "outputs": [
    {
     "data": {
      "text/html": [
       "<div>\n",
       "<style scoped>\n",
       "    .dataframe tbody tr th:only-of-type {\n",
       "        vertical-align: middle;\n",
       "    }\n",
       "\n",
       "    .dataframe tbody tr th {\n",
       "        vertical-align: top;\n",
       "    }\n",
       "\n",
       "    .dataframe thead th {\n",
       "        text-align: right;\n",
       "    }\n",
       "</style>\n",
       "<table border=\"1\" class=\"dataframe\">\n",
       "  <thead>\n",
       "    <tr style=\"text-align: right;\">\n",
       "      <th></th>\n",
       "      <th>Date</th>\n",
       "      <th>Open</th>\n",
       "      <th>High</th>\n",
       "      <th>Low</th>\n",
       "      <th>Close</th>\n",
       "      <th>Adj Close</th>\n",
       "      <th>Volume</th>\n",
       "    </tr>\n",
       "  </thead>\n",
       "  <tbody>\n",
       "    <tr>\n",
       "      <th>0</th>\n",
       "      <td>1980-12-12</td>\n",
       "      <td>0.128348</td>\n",
       "      <td>0.128906</td>\n",
       "      <td>0.128348</td>\n",
       "      <td>0.128348</td>\n",
       "      <td>0.100326</td>\n",
       "      <td>469033600</td>\n",
       "    </tr>\n",
       "    <tr>\n",
       "      <th>10425</th>\n",
       "      <td>2022-04-19</td>\n",
       "      <td>165.020004</td>\n",
       "      <td>167.820007</td>\n",
       "      <td>163.910004</td>\n",
       "      <td>167.399994</td>\n",
       "      <td>167.399994</td>\n",
       "      <td>67627500</td>\n",
       "    </tr>\n",
       "  </tbody>\n",
       "</table>\n",
       "</div>"
      ],
      "text/plain": [
       "            Date        Open        High         Low       Close   Adj Close  \\\n",
       "0     1980-12-12    0.128348    0.128906    0.128348    0.128348    0.100326   \n",
       "10425 2022-04-19  165.020004  167.820007  163.910004  167.399994  167.399994   \n",
       "\n",
       "          Volume  \n",
       "0      469033600  \n",
       "10425   67627500  "
      ]
     },
     "execution_count": 28,
     "metadata": {},
     "output_type": "execute_result"
    }
   ],
   "source": [
    "Aapl.iloc[[0,-1], :]"
   ]
  },
  {
   "cell_type": "markdown",
   "id": "83678971-f98b-4f74-b101-2ef8ccb48718",
   "metadata": {},
   "source": [
    "## Verificare che i dati siano in ordine temporale crescente"
   ]
  },
  {
   "cell_type": "code",
   "execution_count": 29,
   "id": "6d295b0f-4c14-49ee-be47-8392cc478225",
   "metadata": {},
   "outputs": [
    {
     "data": {
      "text/plain": [
       "True"
      ]
     },
     "execution_count": 29,
     "metadata": {},
     "output_type": "execute_result"
    }
   ],
   "source": [
    "Aapl.iloc[0, 0] < Aapl.iloc[-1, 0]"
   ]
  },
  {
   "cell_type": "code",
   "execution_count": 30,
   "id": "1827ca91-269d-4916-90a1-c7e9c5449429",
   "metadata": {},
   "outputs": [
    {
     "data": {
      "text/html": [
       "<div>\n",
       "<style scoped>\n",
       "    .dataframe tbody tr th:only-of-type {\n",
       "        vertical-align: middle;\n",
       "    }\n",
       "\n",
       "    .dataframe tbody tr th {\n",
       "        vertical-align: top;\n",
       "    }\n",
       "\n",
       "    .dataframe thead th {\n",
       "        text-align: right;\n",
       "    }\n",
       "</style>\n",
       "<table border=\"1\" class=\"dataframe\">\n",
       "  <thead>\n",
       "    <tr style=\"text-align: right;\">\n",
       "      <th></th>\n",
       "      <th>Date</th>\n",
       "      <th>Open</th>\n",
       "      <th>High</th>\n",
       "      <th>Low</th>\n",
       "      <th>Close</th>\n",
       "      <th>Adj Close</th>\n",
       "      <th>Volume</th>\n",
       "    </tr>\n",
       "  </thead>\n",
       "  <tbody>\n",
       "    <tr>\n",
       "      <th>0</th>\n",
       "      <td>1980-12-12</td>\n",
       "      <td>0.128348</td>\n",
       "      <td>0.128906</td>\n",
       "      <td>0.128348</td>\n",
       "      <td>0.128348</td>\n",
       "      <td>0.100326</td>\n",
       "      <td>469033600</td>\n",
       "    </tr>\n",
       "    <tr>\n",
       "      <th>1</th>\n",
       "      <td>1980-12-15</td>\n",
       "      <td>0.122210</td>\n",
       "      <td>0.122210</td>\n",
       "      <td>0.121652</td>\n",
       "      <td>0.121652</td>\n",
       "      <td>0.095092</td>\n",
       "      <td>175884800</td>\n",
       "    </tr>\n",
       "    <tr>\n",
       "      <th>2</th>\n",
       "      <td>1980-12-16</td>\n",
       "      <td>0.113281</td>\n",
       "      <td>0.113281</td>\n",
       "      <td>0.112723</td>\n",
       "      <td>0.112723</td>\n",
       "      <td>0.088112</td>\n",
       "      <td>105728000</td>\n",
       "    </tr>\n",
       "    <tr>\n",
       "      <th>3</th>\n",
       "      <td>1980-12-17</td>\n",
       "      <td>0.115513</td>\n",
       "      <td>0.116071</td>\n",
       "      <td>0.115513</td>\n",
       "      <td>0.115513</td>\n",
       "      <td>0.090293</td>\n",
       "      <td>86441600</td>\n",
       "    </tr>\n",
       "    <tr>\n",
       "      <th>4</th>\n",
       "      <td>1980-12-18</td>\n",
       "      <td>0.118862</td>\n",
       "      <td>0.119420</td>\n",
       "      <td>0.118862</td>\n",
       "      <td>0.118862</td>\n",
       "      <td>0.092911</td>\n",
       "      <td>73449600</td>\n",
       "    </tr>\n",
       "    <tr>\n",
       "      <th>...</th>\n",
       "      <td>...</td>\n",
       "      <td>...</td>\n",
       "      <td>...</td>\n",
       "      <td>...</td>\n",
       "      <td>...</td>\n",
       "      <td>...</td>\n",
       "      <td>...</td>\n",
       "    </tr>\n",
       "    <tr>\n",
       "      <th>10421</th>\n",
       "      <td>2022-04-12</td>\n",
       "      <td>168.020004</td>\n",
       "      <td>169.869995</td>\n",
       "      <td>166.639999</td>\n",
       "      <td>167.660004</td>\n",
       "      <td>167.660004</td>\n",
       "      <td>79265200</td>\n",
       "    </tr>\n",
       "    <tr>\n",
       "      <th>10422</th>\n",
       "      <td>2022-04-13</td>\n",
       "      <td>167.389999</td>\n",
       "      <td>171.039993</td>\n",
       "      <td>166.770004</td>\n",
       "      <td>170.399994</td>\n",
       "      <td>170.399994</td>\n",
       "      <td>70618900</td>\n",
       "    </tr>\n",
       "    <tr>\n",
       "      <th>10423</th>\n",
       "      <td>2022-04-14</td>\n",
       "      <td>170.619995</td>\n",
       "      <td>171.270004</td>\n",
       "      <td>165.039993</td>\n",
       "      <td>165.289993</td>\n",
       "      <td>165.289993</td>\n",
       "      <td>75237500</td>\n",
       "    </tr>\n",
       "    <tr>\n",
       "      <th>10424</th>\n",
       "      <td>2022-04-18</td>\n",
       "      <td>163.919998</td>\n",
       "      <td>166.600006</td>\n",
       "      <td>163.570007</td>\n",
       "      <td>165.070007</td>\n",
       "      <td>165.070007</td>\n",
       "      <td>69023900</td>\n",
       "    </tr>\n",
       "    <tr>\n",
       "      <th>10425</th>\n",
       "      <td>2022-04-19</td>\n",
       "      <td>165.020004</td>\n",
       "      <td>167.820007</td>\n",
       "      <td>163.910004</td>\n",
       "      <td>167.399994</td>\n",
       "      <td>167.399994</td>\n",
       "      <td>67627500</td>\n",
       "    </tr>\n",
       "  </tbody>\n",
       "</table>\n",
       "<p>10426 rows × 7 columns</p>\n",
       "</div>"
      ],
      "text/plain": [
       "            Date        Open        High         Low       Close   Adj Close  \\\n",
       "0     1980-12-12    0.128348    0.128906    0.128348    0.128348    0.100326   \n",
       "1     1980-12-15    0.122210    0.122210    0.121652    0.121652    0.095092   \n",
       "2     1980-12-16    0.113281    0.113281    0.112723    0.112723    0.088112   \n",
       "3     1980-12-17    0.115513    0.116071    0.115513    0.115513    0.090293   \n",
       "4     1980-12-18    0.118862    0.119420    0.118862    0.118862    0.092911   \n",
       "...          ...         ...         ...         ...         ...         ...   \n",
       "10421 2022-04-12  168.020004  169.869995  166.639999  167.660004  167.660004   \n",
       "10422 2022-04-13  167.389999  171.039993  166.770004  170.399994  170.399994   \n",
       "10423 2022-04-14  170.619995  171.270004  165.039993  165.289993  165.289993   \n",
       "10424 2022-04-18  163.919998  166.600006  163.570007  165.070007  165.070007   \n",
       "10425 2022-04-19  165.020004  167.820007  163.910004  167.399994  167.399994   \n",
       "\n",
       "          Volume  \n",
       "0      469033600  \n",
       "1      175884800  \n",
       "2      105728000  \n",
       "3       86441600  \n",
       "4       73449600  \n",
       "...          ...  \n",
       "10421   79265200  \n",
       "10422   70618900  \n",
       "10423   75237500  \n",
       "10424   69023900  \n",
       "10425   67627500  \n",
       "\n",
       "[10426 rows x 7 columns]"
      ]
     },
     "execution_count": 30,
     "metadata": {},
     "output_type": "execute_result"
    }
   ],
   "source": [
    "Aapl"
   ]
  },
  {
   "cell_type": "code",
   "execution_count": 31,
   "id": "80fe20df-d92f-454f-ad9e-270617f4d0c1",
   "metadata": {},
   "outputs": [
    {
     "data": {
      "text/html": [
       "<div>\n",
       "<style scoped>\n",
       "    .dataframe tbody tr th:only-of-type {\n",
       "        vertical-align: middle;\n",
       "    }\n",
       "\n",
       "    .dataframe tbody tr th {\n",
       "        vertical-align: top;\n",
       "    }\n",
       "\n",
       "    .dataframe thead th {\n",
       "        text-align: right;\n",
       "    }\n",
       "</style>\n",
       "<table border=\"1\" class=\"dataframe\">\n",
       "  <thead>\n",
       "    <tr style=\"text-align: right;\">\n",
       "      <th></th>\n",
       "      <th>Date</th>\n",
       "      <th>Open</th>\n",
       "      <th>High</th>\n",
       "      <th>Low</th>\n",
       "      <th>Close</th>\n",
       "      <th>Adj Close</th>\n",
       "      <th>Volume</th>\n",
       "    </tr>\n",
       "  </thead>\n",
       "  <tbody>\n",
       "    <tr>\n",
       "      <th>10425</th>\n",
       "      <td>2022-04-19</td>\n",
       "      <td>165.020004</td>\n",
       "      <td>167.820007</td>\n",
       "      <td>163.910004</td>\n",
       "      <td>167.399994</td>\n",
       "      <td>167.399994</td>\n",
       "      <td>67627500</td>\n",
       "    </tr>\n",
       "    <tr>\n",
       "      <th>10424</th>\n",
       "      <td>2022-04-18</td>\n",
       "      <td>163.919998</td>\n",
       "      <td>166.600006</td>\n",
       "      <td>163.570007</td>\n",
       "      <td>165.070007</td>\n",
       "      <td>165.070007</td>\n",
       "      <td>69023900</td>\n",
       "    </tr>\n",
       "    <tr>\n",
       "      <th>10423</th>\n",
       "      <td>2022-04-14</td>\n",
       "      <td>170.619995</td>\n",
       "      <td>171.270004</td>\n",
       "      <td>165.039993</td>\n",
       "      <td>165.289993</td>\n",
       "      <td>165.289993</td>\n",
       "      <td>75237500</td>\n",
       "    </tr>\n",
       "    <tr>\n",
       "      <th>10422</th>\n",
       "      <td>2022-04-13</td>\n",
       "      <td>167.389999</td>\n",
       "      <td>171.039993</td>\n",
       "      <td>166.770004</td>\n",
       "      <td>170.399994</td>\n",
       "      <td>170.399994</td>\n",
       "      <td>70618900</td>\n",
       "    </tr>\n",
       "    <tr>\n",
       "      <th>10421</th>\n",
       "      <td>2022-04-12</td>\n",
       "      <td>168.020004</td>\n",
       "      <td>169.869995</td>\n",
       "      <td>166.639999</td>\n",
       "      <td>167.660004</td>\n",
       "      <td>167.660004</td>\n",
       "      <td>79265200</td>\n",
       "    </tr>\n",
       "    <tr>\n",
       "      <th>...</th>\n",
       "      <td>...</td>\n",
       "      <td>...</td>\n",
       "      <td>...</td>\n",
       "      <td>...</td>\n",
       "      <td>...</td>\n",
       "      <td>...</td>\n",
       "      <td>...</td>\n",
       "    </tr>\n",
       "    <tr>\n",
       "      <th>4</th>\n",
       "      <td>1980-12-18</td>\n",
       "      <td>0.118862</td>\n",
       "      <td>0.119420</td>\n",
       "      <td>0.118862</td>\n",
       "      <td>0.118862</td>\n",
       "      <td>0.092911</td>\n",
       "      <td>73449600</td>\n",
       "    </tr>\n",
       "    <tr>\n",
       "      <th>3</th>\n",
       "      <td>1980-12-17</td>\n",
       "      <td>0.115513</td>\n",
       "      <td>0.116071</td>\n",
       "      <td>0.115513</td>\n",
       "      <td>0.115513</td>\n",
       "      <td>0.090293</td>\n",
       "      <td>86441600</td>\n",
       "    </tr>\n",
       "    <tr>\n",
       "      <th>2</th>\n",
       "      <td>1980-12-16</td>\n",
       "      <td>0.113281</td>\n",
       "      <td>0.113281</td>\n",
       "      <td>0.112723</td>\n",
       "      <td>0.112723</td>\n",
       "      <td>0.088112</td>\n",
       "      <td>105728000</td>\n",
       "    </tr>\n",
       "    <tr>\n",
       "      <th>1</th>\n",
       "      <td>1980-12-15</td>\n",
       "      <td>0.122210</td>\n",
       "      <td>0.122210</td>\n",
       "      <td>0.121652</td>\n",
       "      <td>0.121652</td>\n",
       "      <td>0.095092</td>\n",
       "      <td>175884800</td>\n",
       "    </tr>\n",
       "    <tr>\n",
       "      <th>0</th>\n",
       "      <td>1980-12-12</td>\n",
       "      <td>0.128348</td>\n",
       "      <td>0.128906</td>\n",
       "      <td>0.128348</td>\n",
       "      <td>0.128348</td>\n",
       "      <td>0.100326</td>\n",
       "      <td>469033600</td>\n",
       "    </tr>\n",
       "  </tbody>\n",
       "</table>\n",
       "<p>10426 rows × 7 columns</p>\n",
       "</div>"
      ],
      "text/plain": [
       "            Date        Open        High         Low       Close   Adj Close  \\\n",
       "10425 2022-04-19  165.020004  167.820007  163.910004  167.399994  167.399994   \n",
       "10424 2022-04-18  163.919998  166.600006  163.570007  165.070007  165.070007   \n",
       "10423 2022-04-14  170.619995  171.270004  165.039993  165.289993  165.289993   \n",
       "10422 2022-04-13  167.389999  171.039993  166.770004  170.399994  170.399994   \n",
       "10421 2022-04-12  168.020004  169.869995  166.639999  167.660004  167.660004   \n",
       "...          ...         ...         ...         ...         ...         ...   \n",
       "4     1980-12-18    0.118862    0.119420    0.118862    0.118862    0.092911   \n",
       "3     1980-12-17    0.115513    0.116071    0.115513    0.115513    0.090293   \n",
       "2     1980-12-16    0.113281    0.113281    0.112723    0.112723    0.088112   \n",
       "1     1980-12-15    0.122210    0.122210    0.121652    0.121652    0.095092   \n",
       "0     1980-12-12    0.128348    0.128906    0.128348    0.128348    0.100326   \n",
       "\n",
       "          Volume  \n",
       "10425   67627500  \n",
       "10424   69023900  \n",
       "10423   75237500  \n",
       "10422   70618900  \n",
       "10421   79265200  \n",
       "...          ...  \n",
       "4       73449600  \n",
       "3       86441600  \n",
       "2      105728000  \n",
       "1      175884800  \n",
       "0      469033600  \n",
       "\n",
       "[10426 rows x 7 columns]"
      ]
     },
     "execution_count": 31,
     "metadata": {},
     "output_type": "execute_result"
    }
   ],
   "source": [
    "Aapl.iloc[::-1] # how to flip the DataFrame updown"
   ]
  },
  {
   "cell_type": "code",
   "execution_count": 32,
   "id": "60a384c4-0017-4950-9fb7-7083d125c520",
   "metadata": {},
   "outputs": [],
   "source": [
    "D=Aapl['Date'].values"
   ]
  },
  {
   "cell_type": "code",
   "execution_count": 33,
   "id": "9b99c8f1-20b1-4d5c-95c4-3322370ec499",
   "metadata": {},
   "outputs": [
    {
     "data": {
      "text/plain": [
       "False"
      ]
     },
     "execution_count": 33,
     "metadata": {},
     "output_type": "execute_result"
    }
   ],
   "source": [
    "any(D[:-1]>=D[1:])"
   ]
  },
  {
   "cell_type": "markdown",
   "id": "fa107481-affe-47eb-9fa5-14bb73508127",
   "metadata": {},
   "source": [
    "## Verificare la presenza di NaN"
   ]
  },
  {
   "cell_type": "code",
   "execution_count": 34,
   "id": "a1da0052-63dc-4d53-9fd5-892c1d4ad030",
   "metadata": {},
   "outputs": [],
   "source": [
    "N=Aapl.iloc[:, 1:].values"
   ]
  },
  {
   "cell_type": "code",
   "execution_count": 35,
   "id": "5af00371-7c5b-45d6-8040-625ae18b1b68",
   "metadata": {},
   "outputs": [
    {
     "data": {
      "text/plain": [
       "array([[1.28348000e-01, 1.28906000e-01, 1.28348000e-01, 1.28348000e-01,\n",
       "        1.00326000e-01, 4.69033600e+08],\n",
       "       [1.22210000e-01, 1.22210000e-01, 1.21652000e-01, 1.21652000e-01,\n",
       "        9.50920000e-02, 1.75884800e+08],\n",
       "       [1.13281000e-01, 1.13281000e-01, 1.12723000e-01, 1.12723000e-01,\n",
       "        8.81120000e-02, 1.05728000e+08],\n",
       "       ...,\n",
       "       [1.70619995e+02, 1.71270004e+02, 1.65039993e+02, 1.65289993e+02,\n",
       "        1.65289993e+02, 7.52375000e+07],\n",
       "       [1.63919998e+02, 1.66600006e+02, 1.63570007e+02, 1.65070007e+02,\n",
       "        1.65070007e+02, 6.90239000e+07],\n",
       "       [1.65020004e+02, 1.67820007e+02, 1.63910004e+02, 1.67399994e+02,\n",
       "        1.67399994e+02, 6.76275000e+07]])"
      ]
     },
     "execution_count": 35,
     "metadata": {},
     "output_type": "execute_result"
    }
   ],
   "source": [
    "N"
   ]
  },
  {
   "cell_type": "code",
   "execution_count": 36,
   "id": "abc52920-5f38-4602-8973-715e65da03dd",
   "metadata": {},
   "outputs": [
    {
     "data": {
      "text/plain": [
       "numpy.ndarray"
      ]
     },
     "execution_count": 36,
     "metadata": {},
     "output_type": "execute_result"
    }
   ],
   "source": [
    "type(N)"
   ]
  },
  {
   "cell_type": "code",
   "execution_count": 37,
   "id": "6b218314-b65f-4b6f-a429-22730efbff98",
   "metadata": {},
   "outputs": [
    {
     "data": {
      "text/plain": [
       "False"
      ]
     },
     "execution_count": 37,
     "metadata": {},
     "output_type": "execute_result"
    }
   ],
   "source": [
    "np.isnan(N).any()"
   ]
  },
  {
   "cell_type": "markdown",
   "id": "eb2e13d6-4dae-4b16-90d0-7648e3f04993",
   "metadata": {},
   "source": [
    "## Come caricare una tabella di prezzi?"
   ]
  },
  {
   "cell_type": "code",
   "execution_count": 38,
   "id": "d865d0fd-4ecd-43a7-ae0e-e1a9b417d751",
   "metadata": {},
   "outputs": [
    {
     "data": {
      "text/plain": [
       "False"
      ]
     },
     "execution_count": 38,
     "metadata": {},
     "output_type": "execute_result"
    }
   ],
   "source": [
    "# load AAPL.csv in a DataFrame - rows with NaN are dropped\n",
    "Aapl = pd.read_csv('AAPL.csv').dropna()\n",
    "\n",
    "# convert the 'Date' column with custom format - if 'coerce' then invalid parsing will be set as NaT\n",
    "Aapl['Date'] = pd.to_datetime(Aapl['Date'], format='%Y-%m-%d', errors='coerce')\n",
    "\n",
    "# Check NaN presence\n",
    "N=Aapl.iloc[:, 1:].values\n",
    "np.isnan(N).any()\n",
    "\n",
    "# Flip if not in time ascending order\n",
    "if Aapl.iloc[0, 0] > Aapl.iloc[-1, 0]:\n",
    "    Aapl = Aapl[::-1].reset_index(drop=True)\n",
    "\n",
    "# Check time ascending order\n",
    "D=Aapl['Date'].values\n",
    "any(D[:-1]>=D[1:])"
   ]
  },
  {
   "cell_type": "markdown",
   "id": "afe26149-92cf-436a-84ce-59fee607d9e4",
   "metadata": {},
   "source": [
    "## Function per caricare una tabella di prezzi"
   ]
  },
  {
   "cell_type": "code",
   "execution_count": 39,
   "id": "c63dfe7e-8379-403d-90ff-ddf391da5191",
   "metadata": {},
   "outputs": [],
   "source": [
    "def ReadStockPrices(filename):\n",
    "    T = pd.read_csv(filename).dropna() # Load the table\n",
    "    T['Date'] = pd.to_datetime(T['Date'], format='%Y-%m-%d', errors='coerce') # Convert Date in datetime\n",
    "    N=T.iloc[:, 1:].values\n",
    "    if np.isnan(N).any(): # Check NaN presence\n",
    "        raise ValueError(\"NaN values still present\")\n",
    "    if T.iloc[0, 0] > T.iloc[-1, 0]: # Flip if not in time ascending order\n",
    "        T = T[::-1].reset_index(drop=True)\n",
    "    D=T['Date'].values\n",
    "    if any(D[:-1]>=D[1:]): # Check time ascending order\n",
    "        raise ValueError(\"Data not in time ascending order\")\n",
    "    return T"
   ]
  },
  {
   "cell_type": "code",
   "execution_count": 40,
   "id": "04e9babd-2d80-4d0f-9392-a7281154486c",
   "metadata": {},
   "outputs": [],
   "source": [
    "Aapl = ReadStockPrices('AAPL.csv')"
   ]
  },
  {
   "cell_type": "code",
   "execution_count": 41,
   "id": "52b1905c-da90-469c-8776-e66c41973178",
   "metadata": {},
   "outputs": [
    {
     "data": {
      "text/html": [
       "<div>\n",
       "<style scoped>\n",
       "    .dataframe tbody tr th:only-of-type {\n",
       "        vertical-align: middle;\n",
       "    }\n",
       "\n",
       "    .dataframe tbody tr th {\n",
       "        vertical-align: top;\n",
       "    }\n",
       "\n",
       "    .dataframe thead th {\n",
       "        text-align: right;\n",
       "    }\n",
       "</style>\n",
       "<table border=\"1\" class=\"dataframe\">\n",
       "  <thead>\n",
       "    <tr style=\"text-align: right;\">\n",
       "      <th></th>\n",
       "      <th>Date</th>\n",
       "      <th>Open</th>\n",
       "      <th>High</th>\n",
       "      <th>Low</th>\n",
       "      <th>Close</th>\n",
       "      <th>Adj Close</th>\n",
       "      <th>Volume</th>\n",
       "    </tr>\n",
       "  </thead>\n",
       "  <tbody>\n",
       "    <tr>\n",
       "      <th>0</th>\n",
       "      <td>1980-12-12</td>\n",
       "      <td>0.128348</td>\n",
       "      <td>0.128906</td>\n",
       "      <td>0.128348</td>\n",
       "      <td>0.128348</td>\n",
       "      <td>0.100326</td>\n",
       "      <td>469033600</td>\n",
       "    </tr>\n",
       "    <tr>\n",
       "      <th>1</th>\n",
       "      <td>1980-12-15</td>\n",
       "      <td>0.122210</td>\n",
       "      <td>0.122210</td>\n",
       "      <td>0.121652</td>\n",
       "      <td>0.121652</td>\n",
       "      <td>0.095092</td>\n",
       "      <td>175884800</td>\n",
       "    </tr>\n",
       "    <tr>\n",
       "      <th>2</th>\n",
       "      <td>1980-12-16</td>\n",
       "      <td>0.113281</td>\n",
       "      <td>0.113281</td>\n",
       "      <td>0.112723</td>\n",
       "      <td>0.112723</td>\n",
       "      <td>0.088112</td>\n",
       "      <td>105728000</td>\n",
       "    </tr>\n",
       "    <tr>\n",
       "      <th>3</th>\n",
       "      <td>1980-12-17</td>\n",
       "      <td>0.115513</td>\n",
       "      <td>0.116071</td>\n",
       "      <td>0.115513</td>\n",
       "      <td>0.115513</td>\n",
       "      <td>0.090293</td>\n",
       "      <td>86441600</td>\n",
       "    </tr>\n",
       "    <tr>\n",
       "      <th>4</th>\n",
       "      <td>1980-12-18</td>\n",
       "      <td>0.118862</td>\n",
       "      <td>0.119420</td>\n",
       "      <td>0.118862</td>\n",
       "      <td>0.118862</td>\n",
       "      <td>0.092911</td>\n",
       "      <td>73449600</td>\n",
       "    </tr>\n",
       "    <tr>\n",
       "      <th>...</th>\n",
       "      <td>...</td>\n",
       "      <td>...</td>\n",
       "      <td>...</td>\n",
       "      <td>...</td>\n",
       "      <td>...</td>\n",
       "      <td>...</td>\n",
       "      <td>...</td>\n",
       "    </tr>\n",
       "    <tr>\n",
       "      <th>10421</th>\n",
       "      <td>2022-04-12</td>\n",
       "      <td>168.020004</td>\n",
       "      <td>169.869995</td>\n",
       "      <td>166.639999</td>\n",
       "      <td>167.660004</td>\n",
       "      <td>167.660004</td>\n",
       "      <td>79265200</td>\n",
       "    </tr>\n",
       "    <tr>\n",
       "      <th>10422</th>\n",
       "      <td>2022-04-13</td>\n",
       "      <td>167.389999</td>\n",
       "      <td>171.039993</td>\n",
       "      <td>166.770004</td>\n",
       "      <td>170.399994</td>\n",
       "      <td>170.399994</td>\n",
       "      <td>70618900</td>\n",
       "    </tr>\n",
       "    <tr>\n",
       "      <th>10423</th>\n",
       "      <td>2022-04-14</td>\n",
       "      <td>170.619995</td>\n",
       "      <td>171.270004</td>\n",
       "      <td>165.039993</td>\n",
       "      <td>165.289993</td>\n",
       "      <td>165.289993</td>\n",
       "      <td>75237500</td>\n",
       "    </tr>\n",
       "    <tr>\n",
       "      <th>10424</th>\n",
       "      <td>2022-04-18</td>\n",
       "      <td>163.919998</td>\n",
       "      <td>166.600006</td>\n",
       "      <td>163.570007</td>\n",
       "      <td>165.070007</td>\n",
       "      <td>165.070007</td>\n",
       "      <td>69023900</td>\n",
       "    </tr>\n",
       "    <tr>\n",
       "      <th>10425</th>\n",
       "      <td>2022-04-19</td>\n",
       "      <td>165.020004</td>\n",
       "      <td>167.820007</td>\n",
       "      <td>163.910004</td>\n",
       "      <td>167.399994</td>\n",
       "      <td>167.399994</td>\n",
       "      <td>67627500</td>\n",
       "    </tr>\n",
       "  </tbody>\n",
       "</table>\n",
       "<p>10426 rows × 7 columns</p>\n",
       "</div>"
      ],
      "text/plain": [
       "            Date        Open        High         Low       Close   Adj Close  \\\n",
       "0     1980-12-12    0.128348    0.128906    0.128348    0.128348    0.100326   \n",
       "1     1980-12-15    0.122210    0.122210    0.121652    0.121652    0.095092   \n",
       "2     1980-12-16    0.113281    0.113281    0.112723    0.112723    0.088112   \n",
       "3     1980-12-17    0.115513    0.116071    0.115513    0.115513    0.090293   \n",
       "4     1980-12-18    0.118862    0.119420    0.118862    0.118862    0.092911   \n",
       "...          ...         ...         ...         ...         ...         ...   \n",
       "10421 2022-04-12  168.020004  169.869995  166.639999  167.660004  167.660004   \n",
       "10422 2022-04-13  167.389999  171.039993  166.770004  170.399994  170.399994   \n",
       "10423 2022-04-14  170.619995  171.270004  165.039993  165.289993  165.289993   \n",
       "10424 2022-04-18  163.919998  166.600006  163.570007  165.070007  165.070007   \n",
       "10425 2022-04-19  165.020004  167.820007  163.910004  167.399994  167.399994   \n",
       "\n",
       "          Volume  \n",
       "0      469033600  \n",
       "1      175884800  \n",
       "2      105728000  \n",
       "3       86441600  \n",
       "4       73449600  \n",
       "...          ...  \n",
       "10421   79265200  \n",
       "10422   70618900  \n",
       "10423   75237500  \n",
       "10424   69023900  \n",
       "10425   67627500  \n",
       "\n",
       "[10426 rows x 7 columns]"
      ]
     },
     "execution_count": 41,
     "metadata": {},
     "output_type": "execute_result"
    }
   ],
   "source": [
    "Aapl"
   ]
  },
  {
   "cell_type": "code",
   "execution_count": null,
   "id": "b420ab6a-1e56-42e8-9710-d9542ba27cae",
   "metadata": {},
   "outputs": [],
   "source": []
  },
  {
   "cell_type": "code",
   "execution_count": null,
   "id": "958f057c-1982-471f-8b39-f1ff31c51464",
   "metadata": {},
   "outputs": [],
   "source": []
  },
  {
   "cell_type": "code",
   "execution_count": null,
   "id": "19cede03-c051-4584-b301-7d853562c9d4",
   "metadata": {},
   "outputs": [],
   "source": []
  }
 ],
 "metadata": {
  "kernelspec": {
   "display_name": "Python 3 (ipykernel)",
   "language": "python",
   "name": "python3"
  },
  "language_info": {
   "codemirror_mode": {
    "name": "ipython",
    "version": 3
   },
   "file_extension": ".py",
   "mimetype": "text/x-python",
   "name": "python",
   "nbconvert_exporter": "python",
   "pygments_lexer": "ipython3",
   "version": "3.12.7"
  }
 },
 "nbformat": 4,
 "nbformat_minor": 5
}
